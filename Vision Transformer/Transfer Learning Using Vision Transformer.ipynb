{
 "cells": [
  {
   "cell_type": "markdown",
   "id": "26c9b9b7-fada-4193-aff7-1e8a29ab23f8",
   "metadata": {},
   "source": [
    "# Vision Transformer"
   ]
  },
  {
   "cell_type": "code",
   "execution_count": 1,
   "id": "4860684a-423b-4b94-9af2-619bb2d54316",
   "metadata": {},
   "outputs": [],
   "source": [
    "import matplotlib.pyplot as plt\n",
    "import torch\n",
    "import torchvision\n",
    "\n",
    "from torch import nn\n",
    "from torchvision import transforms"
   ]
  },
  {
   "cell_type": "markdown",
   "id": "5f61ff6a-b5db-4db9-89a1-2c2a3b41a56f",
   "metadata": {},
   "source": [
    "#### Checking for cuda availability"
   ]
  },
  {
   "cell_type": "code",
   "execution_count": 2,
   "id": "28be16c9-e3ae-4a40-81b0-949d34ec0f1a",
   "metadata": {},
   "outputs": [
    {
     "data": {
      "text/plain": [
       "'cuda'"
      ]
     },
     "execution_count": 2,
     "metadata": {},
     "output_type": "execute_result"
    }
   ],
   "source": [
    "device = \"cuda\" if torch.cuda.is_available() else \"cpu\"\n",
    "device"
   ]
  },
  {
   "cell_type": "markdown",
   "id": "4eaee27e-e65e-4ab1-84d7-0b399b3e1ebf",
   "metadata": {},
   "source": [
    "#### Get pretrained weights for ViT-Base"
   ]
  },
  {
   "cell_type": "code",
   "execution_count": 3,
   "id": "0c344de3-75ad-4fca-b790-9600fa38c83a",
   "metadata": {},
   "outputs": [],
   "source": [
    "pretrained_vit_weights = torchvision.models.ViT_B_16_Weights.DEFAULT"
   ]
  },
  {
   "cell_type": "code",
   "execution_count": 4,
   "id": "57665a0c-9ac6-478e-bc1e-e111c02a6a02",
   "metadata": {},
   "outputs": [
    {
     "data": {
      "text/plain": [
       "ViT_B_16_Weights.IMAGENET1K_V1"
      ]
     },
     "execution_count": 4,
     "metadata": {},
     "output_type": "execute_result"
    }
   ],
   "source": [
    "pretrained_vit_weights"
   ]
  },
  {
   "cell_type": "markdown",
   "id": "ab3468fd-ad76-4644-826e-c63ade11dec9",
   "metadata": {},
   "source": [
    "#### Setup a ViT model instance with pretrained weights"
   ]
  },
  {
   "cell_type": "code",
   "execution_count": 5,
   "id": "f6f9010e-c7d5-47df-ae07-c2d0118ca512",
   "metadata": {},
   "outputs": [],
   "source": [
    "pretrained_vit = torchvision.models.vit_b_16(weights=pretrained_vit_weights).to(device)"
   ]
  },
  {
   "cell_type": "code",
   "execution_count": 6,
   "id": "41f6a4c3-ff85-4962-888e-dd4d2c10554d",
   "metadata": {},
   "outputs": [
    {
     "data": {
      "text/plain": [
       "VisionTransformer(\n",
       "  (conv_proj): Conv2d(3, 768, kernel_size=(16, 16), stride=(16, 16))\n",
       "  (encoder): Encoder(\n",
       "    (dropout): Dropout(p=0.0, inplace=False)\n",
       "    (layers): Sequential(\n",
       "      (encoder_layer_0): EncoderBlock(\n",
       "        (ln_1): LayerNorm((768,), eps=1e-06, elementwise_affine=True)\n",
       "        (self_attention): MultiheadAttention(\n",
       "          (out_proj): NonDynamicallyQuantizableLinear(in_features=768, out_features=768, bias=True)\n",
       "        )\n",
       "        (dropout): Dropout(p=0.0, inplace=False)\n",
       "        (ln_2): LayerNorm((768,), eps=1e-06, elementwise_affine=True)\n",
       "        (mlp): MLPBlock(\n",
       "          (0): Linear(in_features=768, out_features=3072, bias=True)\n",
       "          (1): GELU(approximate='none')\n",
       "          (2): Dropout(p=0.0, inplace=False)\n",
       "          (3): Linear(in_features=3072, out_features=768, bias=True)\n",
       "          (4): Dropout(p=0.0, inplace=False)\n",
       "        )\n",
       "      )\n",
       "      (encoder_layer_1): EncoderBlock(\n",
       "        (ln_1): LayerNorm((768,), eps=1e-06, elementwise_affine=True)\n",
       "        (self_attention): MultiheadAttention(\n",
       "          (out_proj): NonDynamicallyQuantizableLinear(in_features=768, out_features=768, bias=True)\n",
       "        )\n",
       "        (dropout): Dropout(p=0.0, inplace=False)\n",
       "        (ln_2): LayerNorm((768,), eps=1e-06, elementwise_affine=True)\n",
       "        (mlp): MLPBlock(\n",
       "          (0): Linear(in_features=768, out_features=3072, bias=True)\n",
       "          (1): GELU(approximate='none')\n",
       "          (2): Dropout(p=0.0, inplace=False)\n",
       "          (3): Linear(in_features=3072, out_features=768, bias=True)\n",
       "          (4): Dropout(p=0.0, inplace=False)\n",
       "        )\n",
       "      )\n",
       "      (encoder_layer_2): EncoderBlock(\n",
       "        (ln_1): LayerNorm((768,), eps=1e-06, elementwise_affine=True)\n",
       "        (self_attention): MultiheadAttention(\n",
       "          (out_proj): NonDynamicallyQuantizableLinear(in_features=768, out_features=768, bias=True)\n",
       "        )\n",
       "        (dropout): Dropout(p=0.0, inplace=False)\n",
       "        (ln_2): LayerNorm((768,), eps=1e-06, elementwise_affine=True)\n",
       "        (mlp): MLPBlock(\n",
       "          (0): Linear(in_features=768, out_features=3072, bias=True)\n",
       "          (1): GELU(approximate='none')\n",
       "          (2): Dropout(p=0.0, inplace=False)\n",
       "          (3): Linear(in_features=3072, out_features=768, bias=True)\n",
       "          (4): Dropout(p=0.0, inplace=False)\n",
       "        )\n",
       "      )\n",
       "      (encoder_layer_3): EncoderBlock(\n",
       "        (ln_1): LayerNorm((768,), eps=1e-06, elementwise_affine=True)\n",
       "        (self_attention): MultiheadAttention(\n",
       "          (out_proj): NonDynamicallyQuantizableLinear(in_features=768, out_features=768, bias=True)\n",
       "        )\n",
       "        (dropout): Dropout(p=0.0, inplace=False)\n",
       "        (ln_2): LayerNorm((768,), eps=1e-06, elementwise_affine=True)\n",
       "        (mlp): MLPBlock(\n",
       "          (0): Linear(in_features=768, out_features=3072, bias=True)\n",
       "          (1): GELU(approximate='none')\n",
       "          (2): Dropout(p=0.0, inplace=False)\n",
       "          (3): Linear(in_features=3072, out_features=768, bias=True)\n",
       "          (4): Dropout(p=0.0, inplace=False)\n",
       "        )\n",
       "      )\n",
       "      (encoder_layer_4): EncoderBlock(\n",
       "        (ln_1): LayerNorm((768,), eps=1e-06, elementwise_affine=True)\n",
       "        (self_attention): MultiheadAttention(\n",
       "          (out_proj): NonDynamicallyQuantizableLinear(in_features=768, out_features=768, bias=True)\n",
       "        )\n",
       "        (dropout): Dropout(p=0.0, inplace=False)\n",
       "        (ln_2): LayerNorm((768,), eps=1e-06, elementwise_affine=True)\n",
       "        (mlp): MLPBlock(\n",
       "          (0): Linear(in_features=768, out_features=3072, bias=True)\n",
       "          (1): GELU(approximate='none')\n",
       "          (2): Dropout(p=0.0, inplace=False)\n",
       "          (3): Linear(in_features=3072, out_features=768, bias=True)\n",
       "          (4): Dropout(p=0.0, inplace=False)\n",
       "        )\n",
       "      )\n",
       "      (encoder_layer_5): EncoderBlock(\n",
       "        (ln_1): LayerNorm((768,), eps=1e-06, elementwise_affine=True)\n",
       "        (self_attention): MultiheadAttention(\n",
       "          (out_proj): NonDynamicallyQuantizableLinear(in_features=768, out_features=768, bias=True)\n",
       "        )\n",
       "        (dropout): Dropout(p=0.0, inplace=False)\n",
       "        (ln_2): LayerNorm((768,), eps=1e-06, elementwise_affine=True)\n",
       "        (mlp): MLPBlock(\n",
       "          (0): Linear(in_features=768, out_features=3072, bias=True)\n",
       "          (1): GELU(approximate='none')\n",
       "          (2): Dropout(p=0.0, inplace=False)\n",
       "          (3): Linear(in_features=3072, out_features=768, bias=True)\n",
       "          (4): Dropout(p=0.0, inplace=False)\n",
       "        )\n",
       "      )\n",
       "      (encoder_layer_6): EncoderBlock(\n",
       "        (ln_1): LayerNorm((768,), eps=1e-06, elementwise_affine=True)\n",
       "        (self_attention): MultiheadAttention(\n",
       "          (out_proj): NonDynamicallyQuantizableLinear(in_features=768, out_features=768, bias=True)\n",
       "        )\n",
       "        (dropout): Dropout(p=0.0, inplace=False)\n",
       "        (ln_2): LayerNorm((768,), eps=1e-06, elementwise_affine=True)\n",
       "        (mlp): MLPBlock(\n",
       "          (0): Linear(in_features=768, out_features=3072, bias=True)\n",
       "          (1): GELU(approximate='none')\n",
       "          (2): Dropout(p=0.0, inplace=False)\n",
       "          (3): Linear(in_features=3072, out_features=768, bias=True)\n",
       "          (4): Dropout(p=0.0, inplace=False)\n",
       "        )\n",
       "      )\n",
       "      (encoder_layer_7): EncoderBlock(\n",
       "        (ln_1): LayerNorm((768,), eps=1e-06, elementwise_affine=True)\n",
       "        (self_attention): MultiheadAttention(\n",
       "          (out_proj): NonDynamicallyQuantizableLinear(in_features=768, out_features=768, bias=True)\n",
       "        )\n",
       "        (dropout): Dropout(p=0.0, inplace=False)\n",
       "        (ln_2): LayerNorm((768,), eps=1e-06, elementwise_affine=True)\n",
       "        (mlp): MLPBlock(\n",
       "          (0): Linear(in_features=768, out_features=3072, bias=True)\n",
       "          (1): GELU(approximate='none')\n",
       "          (2): Dropout(p=0.0, inplace=False)\n",
       "          (3): Linear(in_features=3072, out_features=768, bias=True)\n",
       "          (4): Dropout(p=0.0, inplace=False)\n",
       "        )\n",
       "      )\n",
       "      (encoder_layer_8): EncoderBlock(\n",
       "        (ln_1): LayerNorm((768,), eps=1e-06, elementwise_affine=True)\n",
       "        (self_attention): MultiheadAttention(\n",
       "          (out_proj): NonDynamicallyQuantizableLinear(in_features=768, out_features=768, bias=True)\n",
       "        )\n",
       "        (dropout): Dropout(p=0.0, inplace=False)\n",
       "        (ln_2): LayerNorm((768,), eps=1e-06, elementwise_affine=True)\n",
       "        (mlp): MLPBlock(\n",
       "          (0): Linear(in_features=768, out_features=3072, bias=True)\n",
       "          (1): GELU(approximate='none')\n",
       "          (2): Dropout(p=0.0, inplace=False)\n",
       "          (3): Linear(in_features=3072, out_features=768, bias=True)\n",
       "          (4): Dropout(p=0.0, inplace=False)\n",
       "        )\n",
       "      )\n",
       "      (encoder_layer_9): EncoderBlock(\n",
       "        (ln_1): LayerNorm((768,), eps=1e-06, elementwise_affine=True)\n",
       "        (self_attention): MultiheadAttention(\n",
       "          (out_proj): NonDynamicallyQuantizableLinear(in_features=768, out_features=768, bias=True)\n",
       "        )\n",
       "        (dropout): Dropout(p=0.0, inplace=False)\n",
       "        (ln_2): LayerNorm((768,), eps=1e-06, elementwise_affine=True)\n",
       "        (mlp): MLPBlock(\n",
       "          (0): Linear(in_features=768, out_features=3072, bias=True)\n",
       "          (1): GELU(approximate='none')\n",
       "          (2): Dropout(p=0.0, inplace=False)\n",
       "          (3): Linear(in_features=3072, out_features=768, bias=True)\n",
       "          (4): Dropout(p=0.0, inplace=False)\n",
       "        )\n",
       "      )\n",
       "      (encoder_layer_10): EncoderBlock(\n",
       "        (ln_1): LayerNorm((768,), eps=1e-06, elementwise_affine=True)\n",
       "        (self_attention): MultiheadAttention(\n",
       "          (out_proj): NonDynamicallyQuantizableLinear(in_features=768, out_features=768, bias=True)\n",
       "        )\n",
       "        (dropout): Dropout(p=0.0, inplace=False)\n",
       "        (ln_2): LayerNorm((768,), eps=1e-06, elementwise_affine=True)\n",
       "        (mlp): MLPBlock(\n",
       "          (0): Linear(in_features=768, out_features=3072, bias=True)\n",
       "          (1): GELU(approximate='none')\n",
       "          (2): Dropout(p=0.0, inplace=False)\n",
       "          (3): Linear(in_features=3072, out_features=768, bias=True)\n",
       "          (4): Dropout(p=0.0, inplace=False)\n",
       "        )\n",
       "      )\n",
       "      (encoder_layer_11): EncoderBlock(\n",
       "        (ln_1): LayerNorm((768,), eps=1e-06, elementwise_affine=True)\n",
       "        (self_attention): MultiheadAttention(\n",
       "          (out_proj): NonDynamicallyQuantizableLinear(in_features=768, out_features=768, bias=True)\n",
       "        )\n",
       "        (dropout): Dropout(p=0.0, inplace=False)\n",
       "        (ln_2): LayerNorm((768,), eps=1e-06, elementwise_affine=True)\n",
       "        (mlp): MLPBlock(\n",
       "          (0): Linear(in_features=768, out_features=3072, bias=True)\n",
       "          (1): GELU(approximate='none')\n",
       "          (2): Dropout(p=0.0, inplace=False)\n",
       "          (3): Linear(in_features=3072, out_features=768, bias=True)\n",
       "          (4): Dropout(p=0.0, inplace=False)\n",
       "        )\n",
       "      )\n",
       "    )\n",
       "    (ln): LayerNorm((768,), eps=1e-06, elementwise_affine=True)\n",
       "  )\n",
       "  (heads): Sequential(\n",
       "    (head): Linear(in_features=768, out_features=1000, bias=True)\n",
       "  )\n",
       ")"
      ]
     },
     "execution_count": 6,
     "metadata": {},
     "output_type": "execute_result"
    }
   ],
   "source": [
    "pretrained_vit"
   ]
  },
  {
   "cell_type": "markdown",
   "id": "7f22aff4-69ec-4efd-9270-60d956230115",
   "metadata": {},
   "source": [
    "#### Freeze the base parameters"
   ]
  },
  {
   "cell_type": "code",
   "execution_count": 7,
   "id": "a5354dc6-2f64-4b4f-a9ac-69051a5ef1ac",
   "metadata": {},
   "outputs": [],
   "source": [
    "for parameter in pretrained_vit.parameters():\n",
    "    parameter.requires_grad = False"
   ]
  },
  {
   "cell_type": "markdown",
   "id": "dcc44937-c76c-40de-8b54-bdb41b08cd05",
   "metadata": {},
   "source": [
    "#### classifier head"
   ]
  },
  {
   "cell_type": "code",
   "execution_count": 8,
   "id": "4c12c515-5beb-4c93-a787-877759438ae3",
   "metadata": {},
   "outputs": [],
   "source": [
    "class_names = ['doublemint', 'mouse', 'suns_cream']"
   ]
  },
  {
   "cell_type": "code",
   "execution_count": 9,
   "id": "fc9056fc-bd40-40b9-ab95-c8a5617782f2",
   "metadata": {},
   "outputs": [],
   "source": [
    "def set_seeds(seed: int = 42):\n",
    "    # Set the seed for general torch operations\n",
    "    torch.manual_seed(seed)\n",
    "    # Set the seed for CUDA torch operations (ones that happen on the GPU)\n",
    "    torch.cuda.manual_seed(seed)"
   ]
  },
  {
   "cell_type": "code",
   "execution_count": 10,
   "id": "07898688-b0c5-46c8-bb28-23322962ed33",
   "metadata": {},
   "outputs": [],
   "source": [
    "set_seeds()"
   ]
  },
  {
   "cell_type": "code",
   "execution_count": 11,
   "id": "c8cf85e4-e6e9-485f-b5fe-ae45b6ba5754",
   "metadata": {},
   "outputs": [],
   "source": [
    "pretrained_vit.heads = nn.Linear(in_features=768, out_features=len(class_names)).to(device)"
   ]
  },
  {
   "cell_type": "code",
   "execution_count": 12,
   "id": "f571d567-20a2-4048-ab4a-73f5256b182b",
   "metadata": {},
   "outputs": [
    {
     "data": {
      "text/plain": [
       "Linear(in_features=768, out_features=3, bias=True)"
      ]
     },
     "execution_count": 12,
     "metadata": {},
     "output_type": "execute_result"
    }
   ],
   "source": [
    "pretrained_vit.heads"
   ]
  },
  {
   "cell_type": "markdown",
   "id": "4e0c71e9-4798-46dd-a9a0-34e24b4013bf",
   "metadata": {},
   "source": [
    "## Print a summary using torchinfo (uncomment for actual output)"
   ]
  },
  {
   "cell_type": "code",
   "execution_count": 13,
   "id": "32f33772-1510-4b10-a451-0e3c8605b3b3",
   "metadata": {},
   "outputs": [],
   "source": [
    "from torchinfo import summary"
   ]
  },
  {
   "cell_type": "code",
   "execution_count": 14,
   "id": "9dc70bfe-d568-476d-bcd1-bbdc274599c0",
   "metadata": {},
   "outputs": [
    {
     "name": "stderr",
     "output_type": "stream",
     "text": [
      "C:\\Users\\Public\\anaconda3\\Lib\\site-packages\\torch\\nn\\modules\\activation.py:1221: UserWarning: 1Torch was not compiled with flash attention. (Triggered internally at C:\\cb\\pytorch_1000000000000\\work\\aten\\src\\ATen\\native\\transformers\\cuda\\sdp_utils.cpp:455.)\n",
      "  return torch._native_multi_head_attention(\n"
     ]
    },
    {
     "data": {
      "text/plain": [
       "============================================================================================================================================\n",
       "Layer (type (var_name))                                      Input Shape          Output Shape         Param #              Trainable\n",
       "============================================================================================================================================\n",
       "VisionTransformer (VisionTransformer)                        [32, 3, 224, 224]    [32, 3]              768                  Partial\n",
       "├─Conv2d (conv_proj)                                         [32, 3, 224, 224]    [32, 768, 14, 14]    (590,592)            False\n",
       "├─Encoder (encoder)                                          [32, 197, 768]       [32, 197, 768]       151,296              False\n",
       "│    └─Dropout (dropout)                                     [32, 197, 768]       [32, 197, 768]       --                   --\n",
       "│    └─Sequential (layers)                                   [32, 197, 768]       [32, 197, 768]       --                   False\n",
       "│    │    └─EncoderBlock (encoder_layer_0)                   [32, 197, 768]       [32, 197, 768]       (7,087,872)          False\n",
       "│    │    └─EncoderBlock (encoder_layer_1)                   [32, 197, 768]       [32, 197, 768]       (7,087,872)          False\n",
       "│    │    └─EncoderBlock (encoder_layer_2)                   [32, 197, 768]       [32, 197, 768]       (7,087,872)          False\n",
       "│    │    └─EncoderBlock (encoder_layer_3)                   [32, 197, 768]       [32, 197, 768]       (7,087,872)          False\n",
       "│    │    └─EncoderBlock (encoder_layer_4)                   [32, 197, 768]       [32, 197, 768]       (7,087,872)          False\n",
       "│    │    └─EncoderBlock (encoder_layer_5)                   [32, 197, 768]       [32, 197, 768]       (7,087,872)          False\n",
       "│    │    └─EncoderBlock (encoder_layer_6)                   [32, 197, 768]       [32, 197, 768]       (7,087,872)          False\n",
       "│    │    └─EncoderBlock (encoder_layer_7)                   [32, 197, 768]       [32, 197, 768]       (7,087,872)          False\n",
       "│    │    └─EncoderBlock (encoder_layer_8)                   [32, 197, 768]       [32, 197, 768]       (7,087,872)          False\n",
       "│    │    └─EncoderBlock (encoder_layer_9)                   [32, 197, 768]       [32, 197, 768]       (7,087,872)          False\n",
       "│    │    └─EncoderBlock (encoder_layer_10)                  [32, 197, 768]       [32, 197, 768]       (7,087,872)          False\n",
       "│    │    └─EncoderBlock (encoder_layer_11)                  [32, 197, 768]       [32, 197, 768]       (7,087,872)          False\n",
       "│    └─LayerNorm (ln)                                        [32, 197, 768]       [32, 197, 768]       (1,536)              False\n",
       "├─Linear (heads)                                             [32, 768]            [32, 3]              2,307                True\n",
       "============================================================================================================================================\n",
       "Total params: 85,800,963\n",
       "Trainable params: 2,307\n",
       "Non-trainable params: 85,798,656\n",
       "Total mult-adds (Units.GIGABYTES): 5.52\n",
       "============================================================================================================================================\n",
       "Input size (MB): 19.27\n",
       "Forward/backward pass size (MB): 3330.74\n",
       "Params size (MB): 229.20\n",
       "Estimated Total Size (MB): 3579.21\n",
       "============================================================================================================================================"
      ]
     },
     "execution_count": 14,
     "metadata": {},
     "output_type": "execute_result"
    }
   ],
   "source": [
    "summary(model=pretrained_vit, \n",
    "        input_size=(32, 3, 224, 224), # (batch_size, color_channels, height, width)\n",
    "        # col_names=[\"input_size\"], # uncomment for smaller output\n",
    "        col_names=[\"input_size\", \"output_size\", \"num_params\", \"trainable\"],\n",
    "        col_width=20,\n",
    "        row_settings=[\"var_names\"]\n",
    ")"
   ]
  },
  {
   "cell_type": "markdown",
   "id": "5749b784-0b75-4a0b-85eb-6f53f6587679",
   "metadata": {},
   "source": [
    "#### Short version of the model"
   ]
  },
  {
   "cell_type": "code",
   "execution_count": 15,
   "id": "f2dd4407-1f82-4d2c-a7f1-bc414b067bf0",
   "metadata": {},
   "outputs": [
    {
     "data": {
      "text/plain": [
       "================================================================================\n",
       "Layer (type (var_name))                                      Input Shape\n",
       "================================================================================\n",
       "VisionTransformer (VisionTransformer)                        [32, 3, 224, 224]\n",
       "├─Conv2d (conv_proj)                                         [32, 3, 224, 224]\n",
       "├─Encoder (encoder)                                          [32, 197, 768]\n",
       "│    └─Dropout (dropout)                                     [32, 197, 768]\n",
       "│    └─Sequential (layers)                                   [32, 197, 768]\n",
       "│    │    └─EncoderBlock (encoder_layer_0)                   [32, 197, 768]\n",
       "│    │    └─EncoderBlock (encoder_layer_1)                   [32, 197, 768]\n",
       "│    │    └─EncoderBlock (encoder_layer_2)                   [32, 197, 768]\n",
       "│    │    └─EncoderBlock (encoder_layer_3)                   [32, 197, 768]\n",
       "│    │    └─EncoderBlock (encoder_layer_4)                   [32, 197, 768]\n",
       "│    │    └─EncoderBlock (encoder_layer_5)                   [32, 197, 768]\n",
       "│    │    └─EncoderBlock (encoder_layer_6)                   [32, 197, 768]\n",
       "│    │    └─EncoderBlock (encoder_layer_7)                   [32, 197, 768]\n",
       "│    │    └─EncoderBlock (encoder_layer_8)                   [32, 197, 768]\n",
       "│    │    └─EncoderBlock (encoder_layer_9)                   [32, 197, 768]\n",
       "│    │    └─EncoderBlock (encoder_layer_10)                  [32, 197, 768]\n",
       "│    │    └─EncoderBlock (encoder_layer_11)                  [32, 197, 768]\n",
       "│    └─LayerNorm (ln)                                        [32, 197, 768]\n",
       "├─Linear (heads)                                             [32, 768]\n",
       "================================================================================\n",
       "Total params: 85,800,963\n",
       "Trainable params: 2,307\n",
       "Non-trainable params: 85,798,656\n",
       "Total mult-adds (Units.GIGABYTES): 5.52\n",
       "================================================================================\n",
       "Input size (MB): 19.27\n",
       "Forward/backward pass size (MB): 3330.74\n",
       "Params size (MB): 229.20\n",
       "Estimated Total Size (MB): 3579.21\n",
       "================================================================================"
      ]
     },
     "execution_count": 15,
     "metadata": {},
     "output_type": "execute_result"
    }
   ],
   "source": [
    "summary(model=pretrained_vit, \n",
    "        input_size=(32, 3, 224, 224), # (batch_size, color_channels, height, width)\n",
    "        col_names=[\"input_size\"],\n",
    "        # col_names=[\"input_size\", \"output_size\", \"num_params\", \"trainable\"],\n",
    "        col_width=20,\n",
    "        row_settings=[\"var_names\"]\n",
    ")"
   ]
  },
  {
   "cell_type": "code",
   "execution_count": 16,
   "id": "46b2d9be-2520-4632-85ea-567578f2e16e",
   "metadata": {},
   "outputs": [],
   "source": [
    "train_dir = 'C:/Users/Ishika Saha/Desktop/Aryan/GithubRepo/SDP/Vision Transformer/DATASET/train'\n",
    "test_dir = 'C:/Users/Ishika Saha/Desktop/Aryan/GithubRepo/SDP/Vision Transformer/DATASET/test'"
   ]
  },
  {
   "cell_type": "markdown",
   "id": "91048647-6312-4490-8e7e-f22130499968",
   "metadata": {},
   "source": [
    "## Get automatic transforms from pretrained ViT weights"
   ]
  },
  {
   "cell_type": "code",
   "execution_count": 17,
   "id": "0a3d2da6-49c4-4990-bbd1-27492c1a3de1",
   "metadata": {},
   "outputs": [],
   "source": [
    "pretrained_vit_transforms = pretrained_vit_weights.transforms()"
   ]
  },
  {
   "cell_type": "code",
   "execution_count": 18,
   "id": "24d0c85b-99f6-4228-964a-60d140cb998d",
   "metadata": {},
   "outputs": [
    {
     "name": "stdout",
     "output_type": "stream",
     "text": [
      "ImageClassification(\n",
      "    crop_size=[224]\n",
      "    resize_size=[256]\n",
      "    mean=[0.485, 0.456, 0.406]\n",
      "    std=[0.229, 0.224, 0.225]\n",
      "    interpolation=InterpolationMode.BILINEAR\n",
      ")\n"
     ]
    }
   ],
   "source": [
    "print(pretrained_vit_transforms)"
   ]
  },
  {
   "cell_type": "markdown",
   "id": "72742fef-56b6-416e-ad6c-73ce55dd2c8b",
   "metadata": {},
   "source": [
    "## now we've got transforms ready, we can turn our images into DataLoaders using the create_dataloaders()"
   ]
  },
  {
   "cell_type": "code",
   "execution_count": 19,
   "id": "0538da61-8dc9-41e1-87bf-59c39d749bc2",
   "metadata": {},
   "outputs": [],
   "source": [
    "import os\n",
    "\n",
    "from torchvision import datasets, transforms\n",
    "from torch.utils.data import DataLoader"
   ]
  },
  {
   "cell_type": "code",
   "execution_count": 20,
   "id": "d9fa041b-7f56-4535-b4a5-58a0de21be39",
   "metadata": {},
   "outputs": [],
   "source": [
    "NUM_WORKERS = 0"
   ]
  },
  {
   "cell_type": "code",
   "execution_count": 21,
   "id": "5db68dd9-a172-4aa6-a26d-cfef776a1e7b",
   "metadata": {},
   "outputs": [],
   "source": [
    "def create_dataloaders(\n",
    "    train_dir: str, \n",
    "    test_dir: str, \n",
    "    transform: transforms.Compose, \n",
    "    batch_size: int, \n",
    "    num_workers: int=NUM_WORKERS\n",
    "):\n",
    "\n",
    "  # Use ImageFolder to create dataset(s)\n",
    "  train_data = datasets.ImageFolder(train_dir, transform=transform)\n",
    "  test_data = datasets.ImageFolder(test_dir, transform=transform)\n",
    "\n",
    "  # Get class names\n",
    "  class_names = train_data.classes\n",
    "\n",
    "  # Turn images into data loaders\n",
    "  train_dataloader = DataLoader(\n",
    "      train_data,\n",
    "      batch_size=batch_size,\n",
    "      shuffle=True,\n",
    "      num_workers=num_workers,\n",
    "      pin_memory=True,\n",
    "  )\n",
    "  test_dataloader = DataLoader(\n",
    "      test_data,\n",
    "      batch_size=batch_size,\n",
    "      shuffle=False,\n",
    "      num_workers=num_workers,\n",
    "      pin_memory=True,\n",
    "  )\n",
    "\n",
    "  return train_dataloader, test_dataloader, class_names"
   ]
  },
  {
   "cell_type": "markdown",
   "id": "3d615987-1d1b-4a7f-9d7d-9379d180fe56",
   "metadata": {},
   "source": [
    "## Setup dataloaders"
   ]
  },
  {
   "cell_type": "code",
   "execution_count": 22,
   "id": "286c0d85-83be-4da9-be6e-df2659bd5978",
   "metadata": {},
   "outputs": [],
   "source": [
    "train_dataloader_pretrained, test_dataloader_pretrained, class_names = create_dataloaders(train_dir=train_dir,\n",
    "                                                                                          test_dir=test_dir,\n",
    "                                                                                          transform=pretrained_vit_transforms,\n",
    "                                                                                          batch_size=32) # Could increase if we had more samples"
   ]
  },
  {
   "cell_type": "code",
   "execution_count": 23,
   "id": "172f0239-66bd-46db-a16a-7faeefde0ac1",
   "metadata": {},
   "outputs": [],
   "source": [
    "def calculate_accuracy(y_pred, y_true):\n",
    "    correct = (y_pred.argmax(dim=1) == y_true).sum().item()\n",
    "    acc = correct / len(y_true)\n",
    "    return acc"
   ]
  },
  {
   "cell_type": "markdown",
   "id": "54310a9b-9bbf-4e30-80ef-92be0dfdf30f",
   "metadata": {},
   "source": [
    "#### Set seeds"
   ]
  },
  {
   "cell_type": "code",
   "execution_count": 24,
   "id": "3f82de00-cf48-4414-a223-5ea6e43583aa",
   "metadata": {},
   "outputs": [],
   "source": [
    "set_seeds()"
   ]
  },
  {
   "cell_type": "code",
   "execution_count": 25,
   "id": "450bbf21-2178-42a4-a823-1404bf57028e",
   "metadata": {},
   "outputs": [],
   "source": [
    "optimizer = torch.optim.Adam(params=pretrained_vit.parameters(), lr=1e-3)\n",
    "loss_fn = torch.nn.CrossEntropyLoss()"
   ]
  },
  {
   "cell_type": "code",
   "execution_count": 26,
   "id": "a4499e64-36c9-40ed-91c8-1dba2c4814e5",
   "metadata": {},
   "outputs": [],
   "source": [
    "from tqdm.auto import tqdm\n",
    "from sklearn.metrics import precision_recall_fscore_support"
   ]
  },
  {
   "cell_type": "code",
   "execution_count": 27,
   "id": "65257abb-621e-4639-aeed-11629809e9ca",
   "metadata": {},
   "outputs": [],
   "source": [
    "# Data storage for plotting later\n",
    "train_losses = []\n",
    "train_accuracies = []\n",
    "test_losses = []\n",
    "test_accuracies = []\n",
    "precisions = []\n",
    "recalls = []\n",
    "f1_scores = []\n",
    "y_true = []\n",
    "y_pred_list = []"
   ]
  },
  {
   "cell_type": "code",
   "execution_count": 28,
   "id": "9e07b9b1-2d01-42e9-8135-b0343b5b5ed8",
   "metadata": {},
   "outputs": [],
   "source": [
    "def model_training(epochs):    \n",
    "    for epoch in range(epochs):\n",
    "        # === Training ===\n",
    "        pretrained_vit.train()\n",
    "        train_loss, train_acc = 0, 0\n",
    "    \n",
    "        train_loop = tqdm(train_dataloader_pretrained, desc=f\"Epoch {epoch+1} [Train]\", leave=False)\n",
    "        for X, y in train_loop:\n",
    "            X, y = X.to(device), y.to(device)\n",
    "    \n",
    "            y_pred = pretrained_vit(X)\n",
    "            loss = loss_fn(y_pred, y)\n",
    "            acc = calculate_accuracy(y_pred, y)\n",
    "    \n",
    "            optimizer.zero_grad()\n",
    "            loss.backward()\n",
    "            optimizer.step()\n",
    "    \n",
    "            train_loss += loss.item()\n",
    "            train_acc += acc\n",
    "    \n",
    "        train_loss /= len(train_dataloader_pretrained)\n",
    "        train_acc /= len(train_dataloader_pretrained)\n",
    "        train_losses.append(train_loss)\n",
    "        train_accuracies.append(train_acc)\n",
    "    \n",
    "        # === Evaluation ===\n",
    "        pretrained_vit.eval()\n",
    "        test_loss, test_acc = 0, 0\n",
    "    \n",
    "        with torch.inference_mode():\n",
    "            for X, y in test_dataloader_pretrained:\n",
    "                X, y = X.to(device), y.to(device)\n",
    "    \n",
    "                y_pred = pretrained_vit(X)\n",
    "                loss = loss_fn(y_pred, y)\n",
    "                acc = calculate_accuracy(y_pred, y)\n",
    "    \n",
    "                test_loss += loss.item()\n",
    "                test_acc += acc\n",
    "    \n",
    "                _, predicted = torch.max(y_pred, 1)\n",
    "                y_true.extend(y.cpu().numpy())\n",
    "                y_pred_list.extend(predicted.cpu().numpy())\n",
    "    \n",
    "        test_loss /= len(test_dataloader_pretrained)\n",
    "        test_acc /= len(test_dataloader_pretrained)\n",
    "        test_losses.append(test_loss)\n",
    "        test_accuracies.append(test_acc)\n",
    "    \n",
    "        # === Precision, Recall, F1 ===\n",
    "        precision, recall, f1, _ = precision_recall_fscore_support(\n",
    "            y_true, y_pred_list, average='macro'  # Use 'weighted' or 'micro' if preferred\n",
    "        )\n",
    "        precisions.append(precision)\n",
    "        recalls.append(recall)\n",
    "        f1_scores.append(f1)\n",
    "    \n",
    "        # ✅ Print for each epoch\n",
    "        print(\n",
    "            f\"Epoch✅:{epoch+1} | \"\n",
    "            f\"🔧train_loss:{train_loss:.4f} | 🏋️train_acc:{train_acc:.4f} | \"\n",
    "            f\"🧪test_loss:{test_loss:.4f} | 🎯test_acc:{test_acc:.4f} | \"\n",
    "            f\"📏precision:{precision:.3f} | 🔁recall:{recall:.3f} | 🧠f1:{f1:.3f}\"\n",
    "        )\n"
   ]
  },
  {
   "cell_type": "code",
   "execution_count": 29,
   "id": "3757d78f-8b10-4e93-a88b-fd1526328e7d",
   "metadata": {},
   "outputs": [
    {
     "data": {
      "application/vnd.jupyter.widget-view+json": {
       "model_id": "",
       "version_major": 2,
       "version_minor": 0
      },
      "text/plain": [
       "Epoch 1 [Train]:   0%|          | 0/47 [00:00<?, ?it/s]"
      ]
     },
     "metadata": {},
     "output_type": "display_data"
    },
    {
     "name": "stdout",
     "output_type": "stream",
     "text": [
      "Epoch✅:1 | 🔧train_loss:0.1712 | 🏋️train_acc:0.9701 | 🧪test_loss:0.1167 | 🎯test_acc:0.9622 | 📏precision:0.964 | 🔁recall:0.962 | 🧠f1:0.961\n"
     ]
    },
    {
     "data": {
      "application/vnd.jupyter.widget-view+json": {
       "model_id": "",
       "version_major": 2,
       "version_minor": 0
      },
      "text/plain": [
       "Epoch 2 [Train]:   0%|          | 0/47 [00:00<?, ?it/s]"
      ]
     },
     "metadata": {},
     "output_type": "display_data"
    },
    {
     "name": "stdout",
     "output_type": "stream",
     "text": [
      "Epoch✅:2 | 🔧train_loss:0.0136 | 🏋️train_acc:1.0000 | 🧪test_loss:0.0953 | 🎯test_acc:0.9688 | 📏precision:0.967 | 🔁recall:0.965 | 🧠f1:0.965\n"
     ]
    },
    {
     "data": {
      "application/vnd.jupyter.widget-view+json": {
       "model_id": "",
       "version_major": 2,
       "version_minor": 0
      },
      "text/plain": [
       "Epoch 3 [Train]:   0%|          | 0/47 [00:00<?, ?it/s]"
      ]
     },
     "metadata": {},
     "output_type": "display_data"
    },
    {
     "name": "stdout",
     "output_type": "stream",
     "text": [
      "Epoch✅:3 | 🔧train_loss:0.0079 | 🏋️train_acc:1.0000 | 🧪test_loss:0.0843 | 🎯test_acc:0.9704 | 📏precision:0.969 | 🔁recall:0.967 | 🧠f1:0.966\n"
     ]
    },
    {
     "data": {
      "application/vnd.jupyter.widget-view+json": {
       "model_id": "",
       "version_major": 2,
       "version_minor": 0
      },
      "text/plain": [
       "Epoch 4 [Train]:   0%|          | 0/47 [00:00<?, ?it/s]"
      ]
     },
     "metadata": {},
     "output_type": "display_data"
    },
    {
     "name": "stdout",
     "output_type": "stream",
     "text": [
      "Epoch✅:4 | 🔧train_loss:0.0054 | 🏋️train_acc:1.0000 | 🧪test_loss:0.0783 | 🎯test_acc:0.9720 | 📏precision:0.970 | 🔁recall:0.968 | 🧠f1:0.968\n"
     ]
    },
    {
     "data": {
      "application/vnd.jupyter.widget-view+json": {
       "model_id": "",
       "version_major": 2,
       "version_minor": 0
      },
      "text/plain": [
       "Epoch 5 [Train]:   0%|          | 0/47 [00:00<?, ?it/s]"
      ]
     },
     "metadata": {},
     "output_type": "display_data"
    },
    {
     "name": "stdout",
     "output_type": "stream",
     "text": [
      "Epoch✅:5 | 🔧train_loss:0.0040 | 🏋️train_acc:1.0000 | 🧪test_loss:0.0720 | 🎯test_acc:0.9737 | 📏precision:0.971 | 🔁recall:0.969 | 🧠f1:0.969\n"
     ]
    },
    {
     "data": {
      "application/vnd.jupyter.widget-view+json": {
       "model_id": "",
       "version_major": 2,
       "version_minor": 0
      },
      "text/plain": [
       "Epoch 6 [Train]:   0%|          | 0/47 [00:00<?, ?it/s]"
      ]
     },
     "metadata": {},
     "output_type": "display_data"
    },
    {
     "name": "stdout",
     "output_type": "stream",
     "text": [
      "Epoch✅:6 | 🔧train_loss:0.0031 | 🏋️train_acc:1.0000 | 🧪test_loss:0.0689 | 🎯test_acc:0.9737 | 📏precision:0.972 | 🔁recall:0.970 | 🧠f1:0.970\n"
     ]
    },
    {
     "data": {
      "application/vnd.jupyter.widget-view+json": {
       "model_id": "",
       "version_major": 2,
       "version_minor": 0
      },
      "text/plain": [
       "Epoch 7 [Train]:   0%|          | 0/47 [00:00<?, ?it/s]"
      ]
     },
     "metadata": {},
     "output_type": "display_data"
    },
    {
     "name": "stdout",
     "output_type": "stream",
     "text": [
      "Epoch✅:7 | 🔧train_loss:0.0025 | 🏋️train_acc:1.0000 | 🧪test_loss:0.0657 | 🎯test_acc:0.9753 | 📏precision:0.973 | 🔁recall:0.970 | 🧠f1:0.970\n"
     ]
    },
    {
     "data": {
      "application/vnd.jupyter.widget-view+json": {
       "model_id": "",
       "version_major": 2,
       "version_minor": 0
      },
      "text/plain": [
       "Epoch 8 [Train]:   0%|          | 0/47 [00:00<?, ?it/s]"
      ]
     },
     "metadata": {},
     "output_type": "display_data"
    },
    {
     "name": "stdout",
     "output_type": "stream",
     "text": [
      "Epoch✅:8 | 🔧train_loss:0.0020 | 🏋️train_acc:1.0000 | 🧪test_loss:0.0630 | 🎯test_acc:0.9753 | 📏precision:0.973 | 🔁recall:0.971 | 🧠f1:0.971\n"
     ]
    },
    {
     "data": {
      "application/vnd.jupyter.widget-view+json": {
       "model_id": "",
       "version_major": 2,
       "version_minor": 0
      },
      "text/plain": [
       "Epoch 9 [Train]:   0%|          | 0/47 [00:00<?, ?it/s]"
      ]
     },
     "metadata": {},
     "output_type": "display_data"
    },
    {
     "name": "stdout",
     "output_type": "stream",
     "text": [
      "Epoch✅:9 | 🔧train_loss:0.0017 | 🏋️train_acc:1.0000 | 🧪test_loss:0.0610 | 🎯test_acc:0.9786 | 📏precision:0.974 | 🔁recall:0.972 | 🧠f1:0.972\n"
     ]
    },
    {
     "data": {
      "application/vnd.jupyter.widget-view+json": {
       "model_id": "",
       "version_major": 2,
       "version_minor": 0
      },
      "text/plain": [
       "Epoch 10 [Train]:   0%|          | 0/47 [00:00<?, ?it/s]"
      ]
     },
     "metadata": {},
     "output_type": "display_data"
    },
    {
     "name": "stdout",
     "output_type": "stream",
     "text": [
      "Epoch✅:10 | 🔧train_loss:0.0015 | 🏋️train_acc:1.0000 | 🧪test_loss:0.0593 | 🎯test_acc:0.9803 | 📏precision:0.975 | 🔁recall:0.973 | 🧠f1:0.973\n"
     ]
    }
   ],
   "source": [
    "epochs=10\n",
    "model_training(epochs)"
   ]
  },
  {
   "cell_type": "markdown",
   "id": "407bdf61-f0ad-4a27-b3ca-cefbbc43f5fe",
   "metadata": {},
   "source": [
    "## Train and Test Loss vs Epochs:"
   ]
  },
  {
   "cell_type": "code",
   "execution_count": 30,
   "id": "e9c2352d-0e9a-4c08-91ab-f0b39604bb7f",
   "metadata": {},
   "outputs": [
    {
     "data": {
      "image/png": "[encoded data removed]",
      "text/plain": [
       "<Figure size 1000x600 with 1 Axes>"
      ]
     },
     "metadata": {},
     "output_type": "display_data"
    }
   ],
   "source": [
    "plt.figure(figsize=(10, 6))\n",
    "plt.plot(range(epochs), train_losses, label=\"Train Loss\", color='blue')\n",
    "plt.plot(range(epochs), test_losses, label=\"Test Loss\", color='red')\n",
    "plt.title(\"Train and Test Loss vs Epochs\")\n",
    "plt.xlabel(\"Epochs\")\n",
    "plt.ylabel(\"Loss\")\n",
    "plt.legend()\n",
    "plt.grid(True)\n",
    "\n",
    "# Save the graph\n",
    "plt.savefig(\"Train_and_Test_Loss_vs_Epochs.png\", dpi=300, bbox_inches='tight')\n",
    "\n",
    "# Show the graph\n",
    "plt.show()\n"
   ]
  },
  {
   "cell_type": "markdown",
   "id": "384f3727-387b-4933-8ad8-15b209648de5",
   "metadata": {},
   "source": [
    "## Train and Test Accuracy vs Epochs:"
   ]
  },
  {
   "cell_type": "code",
   "execution_count": 31,
   "id": "ead0b530-cb48-43f0-8a0b-607bab0b0e62",
   "metadata": {},
   "outputs": [
    {
     "data": {
      "image/png": "[encoded data removed]",
      "text/plain": [
       "<Figure size 1000x600 with 1 Axes>"
      ]
     },
     "metadata": {},
     "output_type": "display_data"
    }
   ],
   "source": [
    "plt.figure(figsize=(10, 6))\n",
    "plt.plot(range(epochs), train_accuracies, label=\"Train Accuracy\", color='blue')\n",
    "plt.plot(range(epochs), test_accuracies, label=\"Test Accuracy\", color='red')\n",
    "plt.title(\"Train and Test Accuracy vs Epochs\")\n",
    "plt.xlabel(\"Epochs\")\n",
    "plt.ylabel(\"Accuracy\")\n",
    "plt.legend()\n",
    "plt.grid(True)\n",
    "\n",
    "# Save the graph\n",
    "plt.savefig(\"Train_and_Test_Accuracy_vs_Epochs.png\", dpi=300, bbox_inches='tight')\n",
    "\n",
    "# Show the graph\n",
    "plt.show()"
   ]
  },
  {
   "cell_type": "markdown",
   "id": "9a7020a9-9e9f-4051-9bd9-7bbf17b115d8",
   "metadata": {},
   "source": [
    "## Precision, Recall, and F1-Score (Classification Metrics):"
   ]
  },
  {
   "cell_type": "code",
   "execution_count": 32,
   "id": "b98fd76f-1eea-42ac-bcdd-d78b37cbcd18",
   "metadata": {},
   "outputs": [
    {
     "data": {
      "image/png": "[encoded data removed]",
      "text/plain": [
       "<Figure size 1000x600 with 1 Axes>"
      ]
     },
     "metadata": {},
     "output_type": "display_data"
    }
   ],
   "source": [
    "epochs_range = range(epochs)\n",
    "plt.figure(figsize=(10, 6))\n",
    "plt.plot(epochs_range, precisions, label=\"Precision\", color='green')\n",
    "plt.plot(epochs_range, recalls, label=\"Recall\", color='red')\n",
    "plt.plot(epochs_range, f1_scores, label=\"F1 Score\", color='purple')\n",
    "plt.title(\"Precision, Recall, F1 Score vs Epochs\")\n",
    "plt.xlabel(\"Epochs\")\n",
    "plt.ylabel(\"Score\")\n",
    "plt.legend()\n",
    "plt.grid(True)\n",
    "\n",
    "# Save the graph\n",
    "plt.savefig(\"Precision_Recall_F1Score_vs_Epochs.png\", dpi=300, bbox_inches='tight')\n",
    "\n",
    "# Show the graph\n",
    "plt.show()\n"
   ]
  },
  {
   "cell_type": "markdown",
   "id": "50a26f3a-acbf-4481-8fb6-b3f31d9c1ddb",
   "metadata": {},
   "source": [
    "## Confusion Matrix:"
   ]
  },
  {
   "cell_type": "code",
   "execution_count": 33,
   "id": "cc3d76ef-1258-447c-a70f-60e65f3fc866",
   "metadata": {},
   "outputs": [
    {
     "data": {
      "image/png": "[encoded data removed]",
      "text/plain": [
       "<Figure size 800x600 with 2 Axes>"
      ]
     },
     "metadata": {},
     "output_type": "display_data"
    }
   ],
   "source": [
    "from sklearn.metrics import confusion_matrix\n",
    "import seaborn as sns\n",
    "\n",
    "# Get confusion matrix after training\n",
    "cm = confusion_matrix(y_true, y_pred_list)\n",
    "\n",
    "# Plot and save confusion matrix\n",
    "plt.figure(figsize=(8, 6))\n",
    "sns.heatmap(cm, annot=True, fmt='d', cmap='Blues', xticklabels=class_names, yticklabels=class_names)\n",
    "plt.title(\"Confusion Matrix\")\n",
    "plt.xlabel(\"Predicted\")\n",
    "plt.ylabel(\"True\")\n",
    "\n",
    "# Save the confusion matrix plot\n",
    "plt.savefig(\"confusion_matrix.png\", dpi=300, bbox_inches='tight')\n",
    "\n",
    "# Show the plot\n",
    "plt.show()"
   ]
  },
  {
   "cell_type": "markdown",
   "id": "04b11362-f1e1-4e22-a74b-945e1fb5fcba",
   "metadata": {},
   "source": [
    "## Learning Rate vs Loss:"
   ]
  },
  {
   "cell_type": "code",
   "execution_count": 34,
   "id": "4be5419d-235c-4fbb-b7fd-c6b607aa41eb",
   "metadata": {},
   "outputs": [
    {
     "data": {
      "image/png": "[encoded data removed]",
      "text/plain": [
       "<Figure size 1000x600 with 1 Axes>"
      ]
     },
     "metadata": {},
     "output_type": "display_data"
    }
   ],
   "source": [
    "learning_rates = []\n",
    "\n",
    "for epoch in range(epochs):\n",
    "    # Before training, record the learning rate\n",
    "    lr = optimizer.param_groups[0]['lr']\n",
    "    learning_rates.append(lr)\n",
    "\n",
    "# Plot and save LR vs Epochs\n",
    "plt.figure(figsize=(10, 6))\n",
    "plt.plot(range(epochs), learning_rates, label=\"Learning Rate\", color='purple')\n",
    "plt.title(\"Learning Rate vs Epochs\")\n",
    "plt.xlabel(\"Epochs\")\n",
    "plt.ylabel(\"Learning Rate\")\n",
    "plt.legend()\n",
    "plt.grid(True)\n",
    "plt.savefig(\"learning_rate_vs_epochs.png\", dpi=300, bbox_inches='tight')\n",
    "plt.show()\n"
   ]
  },
  {
   "cell_type": "markdown",
   "id": "6e41c568-7f07-4c56-a99f-6163f7383540",
   "metadata": {},
   "source": [
    "## Predicting The Model"
   ]
  },
  {
   "cell_type": "code",
   "execution_count": 35,
   "id": "1aa4bc0f-31de-47ab-a6dd-d38c7767898c",
   "metadata": {},
   "outputs": [],
   "source": [
    "from PIL import Image"
   ]
  },
  {
   "cell_type": "code",
   "execution_count": 36,
   "id": "90609f55-9aaf-4e74-b11c-e10cfa1e52a0",
   "metadata": {},
   "outputs": [],
   "source": [
    "def predict_image(image_path: str, model: torch.nn.Module, class_names: list, transform, device: torch.device):\n",
    "    # Load the image\n",
    "    image = Image.open(image_path).convert(\"RGB\")\n",
    "\n",
    "    # Apply the same transform as training\n",
    "    image_transformed = transform(image).unsqueeze(0).to(device)  # Add batch dimension\n",
    "\n",
    "    # Set model to evaluation mode\n",
    "    model.eval()\n",
    "    with torch.inference_mode():\n",
    "        outputs = model(image_transformed)\n",
    "        predicted_class_idx = outputs.argmax(dim=1).item()\n",
    "        predicted_class = class_names[predicted_class_idx]\n",
    "\n",
    "    return predicted_class"
   ]
  },
  {
   "cell_type": "code",
   "execution_count": 37,
   "id": "17fd94b7-7937-4e38-8e16-55cc480b11a4",
   "metadata": {},
   "outputs": [
    {
     "name": "stdout",
     "output_type": "stream",
     "text": [
      "Predicted class: mouse\n"
     ]
    }
   ],
   "source": [
    "image_path = r\"C:\\Users\\Ishika Saha\\Desktop\\Aryan\\GithubRepo\\SDP\\Vision Transformer\\DATASET\\prediction_images\\image5.jpg\"\n",
    "prediction = predict_image(image_path, model=pretrained_vit, class_names=class_names, transform=pretrained_vit_transforms, device=device)\n",
    "print(f\"Predicted class: {prediction}\")"
   ]
  },
  {
   "cell_type": "markdown",
   "id": "85d2063f-27a8-4cc0-b281-2fc8eff6213e",
   "metadata": {},
   "source": [
    "## Save only the model weights"
   ]
  },
  {
   "cell_type": "code",
   "execution_count": 38,
   "id": "113ccc7c-1052-41ff-a1ec-b61c32f7baec",
   "metadata": {},
   "outputs": [],
   "source": [
    "torch.save(pretrained_vit.state_dict(), \"vit_model_weights.pth\")  # You can use .pth or .pt too"
   ]
  },
  {
   "cell_type": "code",
   "execution_count": null,
   "id": "35870864-ffb3-43b9-8dec-a9a3ae67e9d3",
   "metadata": {},
   "outputs": [],
   "source": []
  }
 ],
 "metadata": {
  "kernelspec": {
   "display_name": "Python 3 (ipykernel)",
   "language": "python",
   "name": "python3"
  },
  "language_info": {
   "codemirror_mode": {
    "name": "ipython",
    "version": 3
   },
   "file_extension": ".py",
   "mimetype": "text/x-python",
   "name": "python",
   "nbconvert_exporter": "python",
   "pygments_lexer": "ipython3",
   "version": "3.11.7"
  }
 },
 "nbformat": 4,
 "nbformat_minor": 5
}
